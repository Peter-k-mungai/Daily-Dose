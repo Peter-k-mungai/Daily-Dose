{
 "cells": [
  {
   "cell_type": "code",
   "execution_count": 3,
   "id": "eff86c4f",
   "metadata": {},
   "outputs": [
    {
     "name": "stdout",
     "output_type": "stream",
     "text": [
      "Yess\n"
     ]
    }
   ],
   "source": [
    "x = 32\n",
    "if x > 30:\n",
    "    print (\"Yess\")\n",
    "else:\n",
    "    print(\"No\")"
   ]
  },
  {
   "cell_type": "code",
   "execution_count": 11,
   "id": "b65222d8",
   "metadata": {},
   "outputs": [],
   "source": [
    "def compare_to_five (y):\n",
    "    if y > 5:\n",
    "        return \"Greater\"\n",
    "    elif y < 0:\n",
    "        return \"Negative\"\n",
    "    elif y < 5:\n",
    "        return \"Less\"\n",
    "    else:\n",
    "        return \"Equal\""
   ]
  },
  {
   "cell_type": "code",
   "execution_count": 12,
   "id": "2775b156",
   "metadata": {},
   "outputs": [
    {
     "name": "stdout",
     "output_type": "stream",
     "text": [
      "Negative\n"
     ]
    }
   ],
   "source": [
    "print(compare_to_five(-5))"
   ]
  },
  {
   "cell_type": "code",
   "execution_count": 13,
   "id": "865bd718",
   "metadata": {},
   "outputs": [
    {
     "name": "stdout",
     "output_type": "stream",
     "text": [
      "Less\n"
     ]
    }
   ],
   "source": [
    "print(compare_to_five(3))"
   ]
  },
  {
   "cell_type": "code",
   "execution_count": 17,
   "id": "05c19381",
   "metadata": {},
   "outputs": [],
   "source": [
    "def plus_1(a):\n",
    "    result = a + 10\n",
    "    return result\n"
   ]
  },
  {
   "cell_type": "code",
   "execution_count": 18,
   "id": "852fd5c7",
   "metadata": {},
   "outputs": [
    {
     "data": {
      "text/plain": [
       "64"
      ]
     },
     "execution_count": 18,
     "metadata": {},
     "output_type": "execute_result"
    }
   ],
   "source": [
    "plus_1(54)"
   ]
  },
  {
   "cell_type": "code",
   "execution_count": 21,
   "id": "073dcaf6",
   "metadata": {},
   "outputs": [],
   "source": [
    "def add_10(a):\n",
    "    return a + 10"
   ]
  },
  {
   "cell_type": "code",
   "execution_count": 23,
   "id": "dd641082",
   "metadata": {},
   "outputs": [
    {
     "data": {
      "text/plain": [
       "65"
      ]
     },
     "execution_count": 23,
     "metadata": {},
     "output_type": "execute_result"
    }
   ],
   "source": [
    "add_10(55)"
   ]
  },
  {
   "cell_type": "code",
   "execution_count": 29,
   "id": "c34868b3",
   "metadata": {},
   "outputs": [],
   "source": [
    "def wage(w_hours):\n",
    "    return w_hours * 25\n",
    "def with_bonus(w_hours):\n",
    "    return wage(w_hours) + 50\n"
   ]
  },
  {
   "cell_type": "code",
   "execution_count": 30,
   "id": "10d59554",
   "metadata": {},
   "outputs": [
    {
     "data": {
      "text/plain": [
       "(200, 250)"
      ]
     },
     "execution_count": 30,
     "metadata": {},
     "output_type": "execute_result"
    }
   ],
   "source": [
    "wage(8), with_bonus(8)"
   ]
  },
  {
   "cell_type": "code",
   "execution_count": 31,
   "id": "9be5fedb",
   "metadata": {},
   "outputs": [],
   "source": [
    "def addition (m):\n",
    "    if m >= 100:\n",
    "        m = 10 + m\n",
    "        return m\n",
    "    else:\n",
    "        return \"Save More!\""
   ]
  },
  {
   "cell_type": "code",
   "execution_count": 33,
   "id": "1bee0800",
   "metadata": {},
   "outputs": [
    {
     "data": {
      "text/plain": [
       "160"
      ]
     },
     "execution_count": 33,
     "metadata": {},
     "output_type": "execute_result"
    }
   ],
   "source": [
    "addition (150)"
   ]
  },
  {
   "cell_type": "code",
   "execution_count": 35,
   "id": "b4a08d65",
   "metadata": {},
   "outputs": [
    {
     "data": {
      "text/plain": [
       "'Save More!'"
      ]
     },
     "execution_count": 35,
     "metadata": {},
     "output_type": "execute_result"
    }
   ],
   "source": [
    "addition (90)"
   ]
  },
  {
   "cell_type": "code",
   "execution_count": 38,
   "id": "8bc52522",
   "metadata": {},
   "outputs": [],
   "source": [
    "def sub(a,b,c):\n",
    "    result = a - c*b\n",
    "    print(\"Parameter a equals\", a)\n",
    "    print(\"Parameter b equals\", b)\n",
    "    print(\"Parameter c equals\", c)\n",
    "    return result"
   ]
  },
  {
   "cell_type": "code",
   "execution_count": 39,
   "id": "7ebd7dc6",
   "metadata": {},
   "outputs": [
    {
     "name": "stdout",
     "output_type": "stream",
     "text": [
      "Parameter a equals 10\n",
      "Parameter b equals 3\n",
      "Parameter c equals 6\n"
     ]
    },
    {
     "data": {
      "text/plain": [
       "-8"
      ]
     },
     "execution_count": 39,
     "metadata": {},
     "output_type": "execute_result"
    }
   ],
   "source": [
    "sub (10,3,6)"
   ]
  },
  {
   "cell_type": "code",
   "execution_count": 66,
   "id": "71620139",
   "metadata": {},
   "outputs": [
    {
     "data": {
      "text/plain": [
       "['John', 'James', 'Peter', 'Cate']"
      ]
     },
     "execution_count": 66,
     "metadata": {},
     "output_type": "execute_result"
    }
   ],
   "source": [
    "participants = [\"John\", \"James\", \"Peter\", \"Cate\"]\n",
    "participants"
   ]
  },
  {
   "cell_type": "code",
   "execution_count": 67,
   "id": "91807e86",
   "metadata": {},
   "outputs": [
    {
     "name": "stdout",
     "output_type": "stream",
     "text": [
      "James\n"
     ]
    }
   ],
   "source": [
    "print (paticipants[1])"
   ]
  },
  {
   "cell_type": "code",
   "execution_count": 68,
   "id": "ab44964c",
   "metadata": {},
   "outputs": [
    {
     "name": "stdout",
     "output_type": "stream",
     "text": [
      "Mercy\n"
     ]
    }
   ],
   "source": [
    "print (paticipants[-1])"
   ]
  },
  {
   "cell_type": "code",
   "execution_count": 69,
   "id": "e72bfbb9",
   "metadata": {},
   "outputs": [
    {
     "data": {
      "text/plain": [
       "['John', 'James', 'Peter', 'Mercy']"
      ]
     },
     "execution_count": 69,
     "metadata": {},
     "output_type": "execute_result"
    }
   ],
   "source": [
    "participants[3] = \"Mercy\"\n",
    "participants"
   ]
  },
  {
   "cell_type": "code",
   "execution_count": 70,
   "id": "6cb22efb",
   "metadata": {},
   "outputs": [
    {
     "data": {
      "text/plain": [
       "['John', 'James', 'Mercy']"
      ]
     },
     "execution_count": 70,
     "metadata": {},
     "output_type": "execute_result"
    }
   ],
   "source": [
    "del participants[2]\n",
    "participants"
   ]
  },
  {
   "cell_type": "code",
   "execution_count": 71,
   "id": "60991ba6",
   "metadata": {},
   "outputs": [
    {
     "data": {
      "text/plain": [
       "['John', 'James', 'Mercy', 'Josh']"
      ]
     },
     "execution_count": 71,
     "metadata": {},
     "output_type": "execute_result"
    }
   ],
   "source": [
    "participants.append(\"Josh\")\n",
    "participants"
   ]
  },
  {
   "cell_type": "code",
   "execution_count": 72,
   "id": "362df442",
   "metadata": {},
   "outputs": [
    {
     "data": {
      "text/plain": [
       "['John', 'James', 'Mercy', 'Josh', 'George', 'Mary']"
      ]
     },
     "execution_count": 72,
     "metadata": {},
     "output_type": "execute_result"
    }
   ],
   "source": [
    "participants.extend(['George' , 'Mary'])\n",
    "participants"
   ]
  },
  {
   "cell_type": "code",
   "execution_count": 73,
   "id": "10cbfdcf",
   "metadata": {},
   "outputs": [
    {
     "data": {
      "text/plain": [
       "['James', 'Mercy', 'Josh', 'George']"
      ]
     },
     "execution_count": 73,
     "metadata": {},
     "output_type": "execute_result"
    }
   ],
   "source": [
    "participants[1:5]"
   ]
  },
  {
   "cell_type": "code",
   "execution_count": 74,
   "id": "b3a61732",
   "metadata": {},
   "outputs": [
    {
     "data": {
      "text/plain": [
       "['John', 'James', 'Mercy', 'Josh', 'George']"
      ]
     },
     "execution_count": 74,
     "metadata": {},
     "output_type": "execute_result"
    }
   ],
   "source": [
    "participants[:5]"
   ]
  },
  {
   "cell_type": "code",
   "execution_count": 75,
   "id": "85eb59a6",
   "metadata": {},
   "outputs": [
    {
     "data": {
      "text/plain": [
       "['George', 'Mary']"
      ]
     },
     "execution_count": 75,
     "metadata": {},
     "output_type": "execute_result"
    }
   ],
   "source": [
    "participants[4:]"
   ]
  },
  {
   "cell_type": "code",
   "execution_count": 77,
   "id": "959327c9",
   "metadata": {},
   "outputs": [
    {
     "data": {
      "text/plain": [
       "['George', 'Mary']"
      ]
     },
     "execution_count": 77,
     "metadata": {},
     "output_type": "execute_result"
    }
   ],
   "source": [
    "participants[-2:]"
   ]
  },
  {
   "cell_type": "code",
   "execution_count": 85,
   "id": "f96c1db2",
   "metadata": {},
   "outputs": [
    {
     "data": {
      "text/plain": [
       "['Morris', 'Antony']"
      ]
     },
     "execution_count": 85,
     "metadata": {},
     "output_type": "execute_result"
    }
   ],
   "source": [
    "newcomers = [\"Morris\", \"Antony\"]\n",
    "newcomers"
   ]
  },
  {
   "cell_type": "code",
   "execution_count": 86,
   "id": "4f107ad1",
   "metadata": {},
   "outputs": [
    {
     "data": {
      "text/plain": [
       "[['John', 'James', 'Mercy', 'Josh', 'George', 'Mary'], ['Morris', 'Antony']]"
      ]
     },
     "execution_count": 86,
     "metadata": {},
     "output_type": "execute_result"
    }
   ],
   "source": [
    "Updated_list = [participants, newcomers]\n",
    "Updated_list"
   ]
  },
  {
   "cell_type": "code",
   "execution_count": 88,
   "id": "31603a0f",
   "metadata": {},
   "outputs": [
    {
     "data": {
      "text/plain": [
       "['George', 'James', 'John', 'Josh', 'Mary', 'Mercy']"
      ]
     },
     "execution_count": 88,
     "metadata": {},
     "output_type": "execute_result"
    }
   ],
   "source": [
    "participants.sort()\n",
    "participants"
   ]
  },
  {
   "cell_type": "code",
   "execution_count": 89,
   "id": "3a74d971",
   "metadata": {},
   "outputs": [
    {
     "data": {
      "text/plain": [
       "['Mercy', 'Mary', 'Josh', 'John', 'James', 'George']"
      ]
     },
     "execution_count": 89,
     "metadata": {},
     "output_type": "execute_result"
    }
   ],
   "source": [
    "participants.sort(reverse = True)\n",
    "participants"
   ]
  },
  {
   "cell_type": "code",
   "execution_count": 90,
   "id": "a65d7001",
   "metadata": {},
   "outputs": [
    {
     "data": {
      "text/plain": [
       "(40, 42, 43)"
      ]
     },
     "execution_count": 90,
     "metadata": {},
     "output_type": "execute_result"
    }
   ],
   "source": [
    "y=40,42,43\n",
    "y"
   ]
  },
  {
   "cell_type": "code",
   "execution_count": 91,
   "id": "389cf841",
   "metadata": {},
   "outputs": [
    {
     "data": {
      "text/plain": [
       "(51, 52, 53)"
      ]
     },
     "execution_count": 91,
     "metadata": {},
     "output_type": "execute_result"
    }
   ],
   "source": [
    "z=51,52,53\n",
    "z"
   ]
  },
  {
   "cell_type": "code",
   "execution_count": 94,
   "id": "210c85ab",
   "metadata": {},
   "outputs": [
    {
     "data": {
      "text/plain": [
       "[(40, 42, 43), (51, 52, 53)]"
      ]
     },
     "execution_count": 94,
     "metadata": {},
     "output_type": "execute_result"
    }
   ],
   "source": [
    "tuple_list=[y,z]\n",
    "tuple_list"
   ]
  },
  {
   "cell_type": "code",
   "execution_count": 99,
   "id": "b561b633",
   "metadata": {},
   "outputs": [
    {
     "name": "stdout",
     "output_type": "stream",
     "text": [
      "24\n",
      "$100000\n"
     ]
    }
   ],
   "source": [
    "(age, net_worth)= \"24,$100000\".split(\",\")\n",
    "print(age)\n",
    "print(net_worth)"
   ]
  },
  {
   "cell_type": "code",
   "execution_count": 100,
   "id": "f09b77e3",
   "metadata": {},
   "outputs": [
    {
     "name": "stdout",
     "output_type": "stream",
     "text": [
      "Area and Perimeter:\n"
     ]
    },
    {
     "data": {
      "text/plain": [
       "(9, 12)"
      ]
     },
     "execution_count": 100,
     "metadata": {},
     "output_type": "execute_result"
    }
   ],
   "source": [
    "def square_info(x):\n",
    "    A=x**2\n",
    "    P=4*x\n",
    "    print (\"Area and Perimeter:\")\n",
    "    return A,P\n",
    "square_info(3)"
   ]
  },
  {
   "cell_type": "code",
   "execution_count": 103,
   "id": "07dd9f5e",
   "metadata": {},
   "outputs": [
    {
     "data": {
      "text/plain": [
       "{'c01': 'Mombasa', 'c47': 'Nairobi', 'c32': 'Nakuru'}"
      ]
     },
     "execution_count": 103,
     "metadata": {},
     "output_type": "execute_result"
    }
   ],
   "source": [
    "dict = {\"c01\":\"Mombasa\", \"c47\":\"Nairobi\", \"c32\":\"Nakuru\"}\n",
    "dict"
   ]
  },
  {
   "cell_type": "code",
   "execution_count": 104,
   "id": "d58dd23a",
   "metadata": {},
   "outputs": [
    {
     "data": {
      "text/plain": [
       "{'c01': 'Mombasa', 'c47': 'Nairobi', 'c32': 'Nakuru', 'c42': 'Kisumu'}"
      ]
     },
     "execution_count": 104,
     "metadata": {},
     "output_type": "execute_result"
    }
   ],
   "source": [
    "dict[\"c42\"]=\"Kisumu\"\n",
    "dict"
   ]
  },
  {
   "cell_type": "code",
   "execution_count": 105,
   "id": "cd3fb470",
   "metadata": {},
   "outputs": [],
   "source": [
    "even=[0,2,4,6,8,10,12,14,16,18,20]"
   ]
  },
  {
   "cell_type": "code",
   "execution_count": 106,
   "id": "56d269c5",
   "metadata": {},
   "outputs": [
    {
     "name": "stdout",
     "output_type": "stream",
     "text": [
      "0\n",
      "2\n",
      "4\n",
      "6\n",
      "8\n",
      "10\n",
      "12\n",
      "14\n",
      "16\n",
      "18\n",
      "20\n"
     ]
    }
   ],
   "source": [
    "for n in even:\n",
    "    print(n)"
   ]
  },
  {
   "cell_type": "code",
   "execution_count": 107,
   "id": "f9dd11e5",
   "metadata": {},
   "outputs": [
    {
     "name": "stdout",
     "output_type": "stream",
     "text": [
      "0 2 4 6 8 10 12 14 16 18 20 "
     ]
    }
   ],
   "source": [
    "for n in even:\n",
    "    print(n, end =   \" \")"
   ]
  },
  {
   "cell_type": "code",
   "execution_count": 109,
   "id": "f3117365",
   "metadata": {},
   "outputs": [
    {
     "name": "stdout",
     "output_type": "stream",
     "text": [
      "0 2 4 6 8 10 12 14 16 18 20 "
     ]
    }
   ],
   "source": [
    "x=0\n",
    "while x <= 20:\n",
    "    print(x, end = \" \")\n",
    "    x = x + 2"
   ]
  },
  {
   "cell_type": "code",
   "execution_count": 110,
   "id": "9ffb30f1",
   "metadata": {},
   "outputs": [
    {
     "name": "stdout",
     "output_type": "stream",
     "text": [
      "0 2 4 6 8 10 12 14 16 18 20 "
     ]
    }
   ],
   "source": [
    "x=0\n",
    "while x <= 20:\n",
    "    print(x, end = \" \")\n",
    "    x += 2"
   ]
  },
  {
   "cell_type": "code",
   "execution_count": 111,
   "id": "623951aa",
   "metadata": {},
   "outputs": [
    {
     "data": {
      "text/plain": [
       "range(0, 10)"
      ]
     },
     "execution_count": 111,
     "metadata": {},
     "output_type": "execute_result"
    }
   ],
   "source": [
    "range(10)\n"
   ]
  },
  {
   "cell_type": "code",
   "execution_count": 112,
   "id": "c634d879",
   "metadata": {},
   "outputs": [
    {
     "data": {
      "text/plain": [
       "[0, 1, 2, 3, 4, 5, 6, 7, 8, 9]"
      ]
     },
     "execution_count": 112,
     "metadata": {},
     "output_type": "execute_result"
    }
   ],
   "source": [
    "list(range(10))"
   ]
  },
  {
   "cell_type": "code",
   "execution_count": 113,
   "id": "10930387",
   "metadata": {},
   "outputs": [
    {
     "data": {
      "text/plain": [
       "range(1, 20, 2)"
      ]
     },
     "execution_count": 113,
     "metadata": {},
     "output_type": "execute_result"
    }
   ],
   "source": [
    "range(1,20,2)"
   ]
  },
  {
   "cell_type": "code",
   "execution_count": 114,
   "id": "9c5e3595",
   "metadata": {},
   "outputs": [
    {
     "data": {
      "text/plain": [
       "[1, 3, 5, 7, 9, 11, 13, 15, 17, 19]"
      ]
     },
     "execution_count": 114,
     "metadata": {},
     "output_type": "execute_result"
    }
   ],
   "source": [
    "list(range(1,20,2))"
   ]
  },
  {
   "cell_type": "code",
   "execution_count": 115,
   "id": "16f99884",
   "metadata": {},
   "outputs": [
    {
     "name": "stdout",
     "output_type": "stream",
     "text": [
      "1 2 4 8 16 32 64 128 256 512 "
     ]
    }
   ],
   "source": [
    "for n in range(10):\n",
    "    print(2**n, end= \" \")"
   ]
  },
  {
   "cell_type": "code",
   "execution_count": 119,
   "id": "7945d7da",
   "metadata": {},
   "outputs": [
    {
     "name": "stdout",
     "output_type": "stream",
     "text": [
      "0 odd 2 odd 4 odd 6 odd 8 odd 10 odd 12 odd 14 odd 16 odd 18 odd "
     ]
    }
   ],
   "source": [
    "for n in range(20):\n",
    "    if n % 2 == 0:\n",
    "        print(n, end = \" \")\n",
    "    else:\n",
    "        print(\"odd\", end = \" \")"
   ]
  },
  {
   "cell_type": "code",
   "execution_count": 120,
   "id": "0ea468ff",
   "metadata": {},
   "outputs": [],
   "source": [
    "c=(10,15,20)"
   ]
  },
  {
   "cell_type": "code",
   "execution_count": 121,
   "id": "afab1335",
   "metadata": {},
   "outputs": [
    {
     "name": "stdout",
     "output_type": "stream",
     "text": [
      "10 15 20 "
     ]
    }
   ],
   "source": [
    "for item in c:\n",
    "    print(item, end = \" \")"
   ]
  },
  {
   "cell_type": "code",
   "execution_count": 122,
   "id": "458a0e15",
   "metadata": {},
   "outputs": [
    {
     "name": "stdout",
     "output_type": "stream",
     "text": [
      "10 15 20 "
     ]
    }
   ],
   "source": [
    "for item in range(len(c)):\n",
    "    print(c[item], end = \" \")"
   ]
  },
  {
   "cell_type": "code",
   "execution_count": 130,
   "id": "a596bbb0",
   "metadata": {},
   "outputs": [],
   "source": [
    "def count(numbers):\n",
    "    total = 0 ##list that deperts from 0\n",
    "    for x in numbers:\n",
    "        if x < 20:\n",
    "            total +=1\n",
    "    return total"
   ]
  },
  {
   "cell_type": "code",
   "execution_count": 131,
   "id": "4fe6185e",
   "metadata": {},
   "outputs": [],
   "source": [
    "list_f=(1,2,8,4,25,63,17,19,55,89,14,63,45,6,9,10)"
   ]
  },
  {
   "cell_type": "code",
   "execution_count": 132,
   "id": "bbfd1be6",
   "metadata": {},
   "outputs": [
    {
     "data": {
      "text/plain": [
       "10"
      ]
     },
     "execution_count": 132,
     "metadata": {},
     "output_type": "execute_result"
    }
   ],
   "source": [
    "count(list_f)"
   ]
  },
  {
   "cell_type": "code",
   "execution_count": 141,
   "id": "d643a441",
   "metadata": {},
   "outputs": [
    {
     "name": "stdout",
     "output_type": "stream",
     "text": [
      "7900\n"
     ]
    }
   ],
   "source": [
    "prices = {\"kuku\":600, \"mbuzi\":700, \"pork\":800}\n",
    "quantity = {\"kuku\":5, \"mbuzi\":7, \"pork\":0}\n",
    "\n",
    "money_spent=0\n",
    "for i in prices:\n",
    "    money_spent = money_spent + (prices[i] * quantity[i])\n",
    "print (money_spent)"
   ]
  },
  {
   "cell_type": "code",
   "execution_count": null,
   "id": "8a058c4f",
   "metadata": {},
   "outputs": [],
   "source": []
  }
 ],
 "metadata": {
  "kernelspec": {
   "display_name": "Python 3 (ipykernel)",
   "language": "python",
   "name": "python3"
  },
  "language_info": {
   "codemirror_mode": {
    "name": "ipython",
    "version": 3
   },
   "file_extension": ".py",
   "mimetype": "text/x-python",
   "name": "python",
   "nbconvert_exporter": "python",
   "pygments_lexer": "ipython3",
   "version": "3.9.16"
  }
 },
 "nbformat": 4,
 "nbformat_minor": 5
}

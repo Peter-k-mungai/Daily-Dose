{
 "cells": [
  {
   "cell_type": "code",
   "execution_count": 1,
   "id": "1b9a5a59-69f7-4d57-a315-2ae2c0eeea7e",
   "metadata": {},
   "outputs": [],
   "source": [
    "import plotly.express as px\n",
    "import pandas as pd\n",
    "import numpy as np\n",
    "import sklearn as sk\n",
    "import matplotlib as mp\n",
    "import seaborn as sns\n",
    "import matplotlib.pyplot as plt\n",
    "from scipy import stats\n",
    "from scipy.stats import pearsonr\n",
    "colors=['#BC5308', '#FFECD1', '#C5CAB8', '#FF7D00', '#8AA79F', '#FFB569', '#15616D', '#001524']\n",
    "import warnings\n",
    "warnings.filterwarnings('ignore')"
   ]
  },
  {
   "cell_type": "code",
   "execution_count": 2,
   "id": "1f61c9b2-f301-4025-83bc-24bf0c34c3c6",
   "metadata": {},
   "outputs": [],
   "source": [
    "df = pd.read_csv(\"Hr_24.csv\")"
   ]
  },
  {
   "cell_type": "code",
   "execution_count": 3,
   "id": "ca231950-c099-4490-b01f-3742796f77f6",
   "metadata": {},
   "outputs": [],
   "source": [
    "df.head(3)\n",
    "df = df.drop(columns = [\"Unnamed: 0\"])"
   ]
  },
  {
   "cell_type": "code",
   "execution_count": 4,
   "id": "5bae9c26-7c19-4912-8507-ea20ffb70395",
   "metadata": {},
   "outputs": [
    {
     "data": {
      "text/plain": [
       "Index(['satisfaction_level', 'last_evaluation_score', 'project_count',\n",
       "       'average_monthly_hours', 'years_of_working', 'workplace_accident_count',\n",
       "       'employment_status', 'promotion_last_5years', 'Difference_in_scores',\n",
       "       'department_IT', 'department_RandD', 'department_accounting',\n",
       "       'department_hr', 'department_management', 'department_marketing',\n",
       "       'department_product_mng', 'department_sales', 'department_support',\n",
       "       'department_technical', 'salary_range_high', 'salary_range_low',\n",
       "       'salary_range_medium', 'difference_groups_-0.19 - 0',\n",
       "       'difference_groups_-0.59 - -0.2', 'difference_groups_-1 - -0.6',\n",
       "       'difference_groups_0 - 0.19', 'difference_groups_0.2 - 0.59',\n",
       "       'difference_groups_0.6 - 1', 'satisfaction_groups_0-0.2',\n",
       "       'satisfaction_groups_0.3-0.4', 'satisfaction_groups_0.5-0.6',\n",
       "       'satisfaction_groups_0.7-0.8', 'satisfaction_groups_0.9-1'],\n",
       "      dtype='object')"
      ]
     },
     "execution_count": 4,
     "metadata": {},
     "output_type": "execute_result"
    }
   ],
   "source": [
    "df1= pd.get_dummies(data=df, columns=[\"department\", \"salary_range\", \"difference_groups\", \"satisfaction_groups\"])\n",
    "df1.columns"
   ]
  },
  {
   "cell_type": "markdown",
   "id": "d0ce52e0-4e7a-4366-9b18-32c9367e38d7",
   "metadata": {},
   "source": [
    "## Ensemble learning - Badding"
   ]
  },
  {
   "cell_type": "code",
   "execution_count": 5,
   "id": "5f990309-a6a0-4da2-b4b4-a9a16b7907dc",
   "metadata": {},
   "outputs": [
    {
     "name": "stdout",
     "output_type": "stream",
     "text": [
      "ROC AUC Score: 1.00\n",
      "Accuracy: 0.99\n",
      "Confusion Matrix:\n",
      "[[2775   11]\n",
      " [  71 2714]]\n",
      "Classification Report:\n",
      "              precision    recall  f1-score   support\n",
      "\n",
      "           0       0.98      1.00      0.99      2786\n",
      "           1       1.00      0.97      0.99      2785\n",
      "\n",
      "    accuracy                           0.99      5571\n",
      "   macro avg       0.99      0.99      0.99      5571\n",
      "weighted avg       0.99      0.99      0.99      5571\n",
      "\n"
     ]
    }
   ],
   "source": [
    "from sklearn.ensemble import BaggingClassifier\n",
    "from sklearn.tree import DecisionTreeClassifier\n",
    "from sklearn.metrics import roc_auc_score, accuracy_score, confusion_matrix, classification_report\n",
    "from sklearn.model_selection import train_test_split\n",
    "from imblearn.over_sampling import SMOTE\n",
    "\n",
    "X3 = df1.drop(\"employment_status\", axis=1)  \n",
    "Y3 = df1[\"employment_status\"] \n",
    "smote = SMOTE(sampling_strategy='minority', random_state=1)\n",
    "X_sm, Y_sm = smote.fit_resample(X3, Y3)\n",
    "\n",
    "x4_train, x4_test, y4_train, y4_test = train_test_split(X_sm, Y_sm, test_size=0.3, random_state=15, stratify=Y_sm)\n",
    "\n",
    "# Decision tree\n",
    "tree = DecisionTreeClassifier(criterion='entropy', \n",
    "                              random_state=1, \n",
    "                              max_depth=None)\n",
    "#Bagging classifier\n",
    "bag = BaggingClassifier(estimator=tree,\n",
    "                        n_estimators=10,\n",
    "                        max_samples=1.0,\n",
    "                        max_features=1.0,\n",
    "                        bootstrap=True,\n",
    "                        random_state=1)\n",
    "\n",
    "\n",
    "bag.fit(x4_train, y4_train)\n",
    "y_pred_proba = bag.predict_proba(x4_test)[:, 1] \n",
    "y_pred = bag.predict(x4_test)  \n",
    "\n",
    "#cofirming the accuracy\n",
    "roc_auc = roc_auc_score(y4_test, y_pred_proba)\n",
    "accuracy = accuracy_score(y4_test, y_pred)\n",
    "\n",
    "# confusion matrix\n",
    "conf_matrix = confusion_matrix(y4_test, y_pred)\n",
    "\n",
    "# Generate classification report\n",
    "class_report = classification_report(y4_test, y_pred)\n",
    "print(f'ROC AUC Score: {roc_auc:.2f}')\n",
    "print(f'Accuracy: {accuracy:.2f}')\n",
    "print('Confusion Matrix:')\n",
    "print(conf_matrix)\n",
    "print('Classification Report:')\n",
    "print(class_report)"
   ]
  },
  {
   "cell_type": "markdown",
   "id": "41728112-9b52-4bdc-8aa0-54ba2ee4d4b3",
   "metadata": {},
   "source": [
    "## Ensemble learning - Adaptive Boost (AdaBoost)"
   ]
  },
  {
   "cell_type": "code",
   "execution_count": 6,
   "id": "924b798c-d6b6-4510-bd6a-99c1e47cdf36",
   "metadata": {},
   "outputs": [
    {
     "name": "stdout",
     "output_type": "stream",
     "text": [
      "ROC AUC Score: 0.99\n",
      "Accuracy: 0.95\n",
      "Confusion Matrix:\n",
      "[[2682  104]\n",
      " [ 150 2635]]\n",
      "Classification Report:\n",
      "              precision    recall  f1-score   support\n",
      "\n",
      "           0       0.95      0.96      0.95      2786\n",
      "           1       0.96      0.95      0.95      2785\n",
      "\n",
      "    accuracy                           0.95      5571\n",
      "   macro avg       0.95      0.95      0.95      5571\n",
      "weighted avg       0.95      0.95      0.95      5571\n",
      "\n"
     ]
    }
   ],
   "source": [
    "#split and balancing data\n",
    "\n",
    "X3 = df1.drop(\"employment_status\", axis=1)  \n",
    "Y3 = df1[\"employment_status\"] \n",
    "smote = SMOTE(sampling_strategy='minority', random_state=1)\n",
    "X_sm, Y_sm = smote.fit_resample(X3, Y3)\n",
    "\n",
    "x4_train, x4_test, y4_train, y4_test = train_test_split(X_sm, Y_sm, test_size=0.3, random_state=15, stratify=Y_sm)\n",
    "from sklearn.ensemble import AdaBoostClassifier\n",
    "tree = DecisionTreeClassifier(criterion='entropy', \n",
    "                              random_state=1, \n",
    "                              max_depth=1)  \n",
    "\n",
    "# AdaBoost classifier\n",
    "ada = AdaBoostClassifier(estimator=tree,\n",
    "                         n_estimators=500,\n",
    "                         learning_rate=0.1,\n",
    "                         random_state=1)\n",
    "\n",
    "# Fit the AdaBoost classifier\n",
    "ada.fit(x4_train, y4_train)\n",
    "\n",
    "# Make predictions\n",
    "y_pred_proba = ada.predict_proba(x4_test)[:, 1] \n",
    "y_pred = ada.predict(x4_test)  \n",
    "\n",
    "# Calculate metrics\n",
    "roc_auc = roc_auc_score(y4_test, y_pred_proba)\n",
    "accuracy = accuracy_score(y4_test, y_pred)\n",
    "\n",
    "# Calculate confusion matrix\n",
    "conf_matrix = confusion_matrix(y4_test, y_pred)\n",
    "\n",
    "# Generate classification report\n",
    "class_report = classification_report(y4_test, y_pred)\n",
    "\n",
    "# Print results\n",
    "print(f'ROC AUC Score: {roc_auc:.2f}')\n",
    "print(f'Accuracy: {accuracy:.2f}')\n",
    "print('Confusion Matrix:')\n",
    "print(conf_matrix)\n",
    "print('Classification Report:')\n",
    "print(class_report)"
   ]
  },
  {
   "cell_type": "markdown",
   "id": "169b07d2-c5e0-4348-b231-ff331f9ebf74",
   "metadata": {},
   "source": [
    "## Ensemble learning - Extreme gradient boosting - (XGBoost)"
   ]
  },
  {
   "cell_type": "code",
   "execution_count": 17,
   "id": "5be77924-aa1c-4a8b-9479-9e8ea99f93f6",
   "metadata": {},
   "outputs": [],
   "source": [
    "#!pip install XGBoost==1.5.0"
   ]
  },
  {
   "cell_type": "code",
   "execution_count": 21,
   "id": "36a4f799-ce3b-4397-ba9c-208b8975a0c8",
   "metadata": {},
   "outputs": [
    {
     "name": "stdout",
     "output_type": "stream",
     "text": [
      "Requirement already satisfied: pandas in c:\\users\\peter\\appdata\\local\\anaconda3\\lib\\site-packages (2.2.2)\n",
      "Requirement already satisfied: numpy>=1.23.2 in c:\\users\\peter\\appdata\\local\\anaconda3\\lib\\site-packages (from pandas) (1.26.4)\n",
      "Requirement already satisfied: python-dateutil>=2.8.2 in c:\\users\\peter\\appdata\\local\\anaconda3\\lib\\site-packages (from pandas) (2.8.2)\n",
      "Requirement already satisfied: pytz>=2020.1 in c:\\users\\peter\\appdata\\local\\anaconda3\\lib\\site-packages (from pandas) (2023.3.post1)\n",
      "Requirement already satisfied: tzdata>=2022.7 in c:\\users\\peter\\appdata\\local\\anaconda3\\lib\\site-packages (from pandas) (2023.3)\n",
      "Requirement already satisfied: six>=1.5 in c:\\users\\peter\\appdata\\local\\anaconda3\\lib\\site-packages (from python-dateutil>=2.8.2->pandas) (1.16.0)\n",
      "Requirement already satisfied: xgboost in c:\\users\\peter\\appdata\\local\\anaconda3\\lib\\site-packages (2.0.3)\n",
      "Requirement already satisfied: numpy in c:\\users\\peter\\appdata\\local\\anaconda3\\lib\\site-packages (from xgboost) (1.26.4)\n",
      "Requirement already satisfied: scipy in c:\\users\\peter\\appdata\\local\\anaconda3\\lib\\site-packages (from xgboost) (1.11.4)\n"
     ]
    }
   ],
   "source": [
    "!pip install --upgrade pandas \n",
    "!pip install --upgrade xgboost"
   ]
  },
  {
   "cell_type": "code",
   "execution_count": 24,
   "id": "e7b0325c-93fe-4351-88af-bd99e9881c3c",
   "metadata": {},
   "outputs": [
    {
     "name": "stdout",
     "output_type": "stream",
     "text": [
      "pandas version: 2.1.4\n",
      "xgboost version: 1.5.0\n"
     ]
    }
   ],
   "source": [
    "import pandas as pd\n",
    "import xgboost as xgb\n",
    "\n",
    "print(f'pandas version: {pd.__version__}')\n",
    "print(f'xgboost version: {xgb.__version__}')"
   ]
  },
  {
   "cell_type": "code",
   "execution_count": 23,
   "id": "04450ea8-6806-4afd-bbfb-651bfbad73b5",
   "metadata": {},
   "outputs": [
    {
     "name": "stdout",
     "output_type": "stream",
     "text": [
      "[21:30:03] WARNING: C:/Users/Administrator/workspace/xgboost-win64_release_1.5.0/src/learner.cc:1115: Starting in XGBoost 1.3.0, the default evaluation metric used with the objective 'binary:logistic' was changed from 'error' to 'logloss'. Explicitly set eval_metric if you'd like to restore the old behavior.\n",
      "XGBoost train/test accuracies: 0.984/0.982\n"
     ]
    }
   ],
   "source": [
    "\n",
    "import xgboost as xgb\n",
    "from sklearn.model_selection import train_test_split\n",
    "from imblearn.over_sampling import SMOTE\n",
    "\n",
    "if not hasattr(pd, 'Int64Index'):\n",
    "    pd.Int64Index = pd.Index\n",
    "\n",
    "#split and balancing data\n",
    "\n",
    "X3 = df1.drop(\"employment_status\", axis=1)  \n",
    "Y3 = df1[\"employment_status\"] \n",
    "smote = SMOTE(sampling_strategy='minority', random_state=1)\n",
    "X_sm, Y_sm = smote.fit_resample(X3, Y3)\n",
    "\n",
    "x4_train, x4_test, y4_train, y4_test = train_test_split(X_sm, Y_sm, test_size=0.3, random_state=15, stratify=Y_sm)\n",
    "\n",
    "# Initialize the model\n",
    "model = xgb.XGBClassifier(\n",
    "    n_estimators=1000,\n",
    "    learning_rate=0.01,  \n",
    "    max_depth=4,\n",
    "    random_state=1,\n",
    "    use_label_encoder=False)\n",
    "\n",
    "# Train the model\n",
    "x_model = model.fit(x4_train, y4_train)\n",
    "\n",
    "# Predictions\n",
    "y4_train_pred = x_model.predict(x4_train)\n",
    "y4_test_pred = x_model.predict(x4_test)\n",
    "\n",
    "# Calculate accuracy\n",
    "x_model_train = accuracy_score(y4_train, y4_train_pred)\n",
    "x_model_test = accuracy_score(y4_test, y4_test_pred)\n",
    "\n",
    "# Print the results\n",
    "print(f'XGBoost train/test accuracies: {x_model_train:.3f}/{x_model_test:.3f}')\n",
    "\n",
    "\n",
    "\n"
   ]
  },
  {
   "cell_type": "code",
   "execution_count": 26,
   "id": "ea21d252-4a18-4fcb-bc19-5a51062be1a8",
   "metadata": {},
   "outputs": [
    {
     "name": "stdout",
     "output_type": "stream",
     "text": [
      "[[2767   19]\n",
      " [  83 2702]]\n",
      "              precision    recall  f1-score   support\n",
      "\n",
      "           0       0.97      0.99      0.98      2786\n",
      "           1       0.99      0.97      0.98      2785\n",
      "\n",
      "    accuracy                           0.98      5571\n",
      "   macro avg       0.98      0.98      0.98      5571\n",
      "weighted avg       0.98      0.98      0.98      5571\n",
      "\n"
     ]
    }
   ],
   "source": [
    "# Calculate confusion matrix\n",
    "conf_matrix = confusion_matrix(y4_test, y4_test_pred)\n",
    "print (conf_matrix)\n",
    "# Generate classification report\n",
    "class_report = classification_report(y4_test, y4_test_pred)\n",
    "print (class_report)"
   ]
  },
  {
   "cell_type": "code",
   "execution_count": null,
   "id": "f051eff2-2744-479d-8f87-ac9ec5151db7",
   "metadata": {},
   "outputs": [],
   "source": []
  }
 ],
 "metadata": {
  "kernelspec": {
   "display_name": "Python 3 (ipykernel)",
   "language": "python",
   "name": "python3"
  },
  "language_info": {
   "codemirror_mode": {
    "name": "ipython",
    "version": 3
   },
   "file_extension": ".py",
   "mimetype": "text/x-python",
   "name": "python",
   "nbconvert_exporter": "python",
   "pygments_lexer": "ipython3",
   "version": "3.11.7"
  }
 },
 "nbformat": 4,
 "nbformat_minor": 5
}
